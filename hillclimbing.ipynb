{
  "nbformat": 4,
  "nbformat_minor": 0,
  "metadata": {
    "colab": {
      "provenance": [],
      "authorship_tag": "ABX9TyNks99prjCJSQ7wvcjkA6xV",
      "include_colab_link": true
    },
    "kernelspec": {
      "name": "python3",
      "display_name": "Python 3"
    },
    "language_info": {
      "name": "python"
    }
  },
  "cells": [
    {
      "cell_type": "markdown",
      "metadata": {
        "id": "view-in-github",
        "colab_type": "text"
      },
      "source": [
        "<a href=\"https://colab.research.google.com/github/vedanthcr27/AI_LAB/blob/main/hillclimbing.ipynb\" target=\"_parent\"><img src=\"https://colab.research.google.com/assets/colab-badge.svg\" alt=\"Open In Colab\"/></a>"
      ]
    },
    {
      "cell_type": "code",
      "execution_count": 1,
      "metadata": {
        "colab": {
          "base_uri": "https://localhost:8080/"
        },
        "id": "oIpOfAGn8jwA",
        "outputId": "fdf69356-8205-4ca8-99fd-766696c4f96e"
      },
      "outputs": [
        {
          "output_type": "stream",
          "name": "stdout",
          "text": [
            "Initial state:\n",
            "1 2 3\n",
            "4   6\n",
            "7 5 8\n",
            "\n",
            "Current state with score 1:\n",
            "1 2 3\n",
            "4 5 6\n",
            "7   8\n",
            "\n",
            "Current state with score 0:\n",
            "1 2 3\n",
            "4 5 6\n",
            "7 8  \n",
            "\n",
            "Goal reached!\n"
          ]
        },
        {
          "output_type": "execute_result",
          "data": {
            "text/plain": [
              "[[1, 2, 3], [4, 5, 6], [7, 8, 0]]"
            ]
          },
          "metadata": {},
          "execution_count": 1
        }
      ],
      "source": [
        "import copy\n",
        "\n",
        "GOAL_STATE = [\n",
        "    [1, 2, 3],\n",
        "    [4, 5, 6],\n",
        "    [7, 8, 0]\n",
        "]\n",
        "\n",
        "def misplaced_tiles(state):\n",
        "    count = 0\n",
        "    for i in range(3):\n",
        "        for j in range(3):\n",
        "            if state[i][j] != 0 and state[i][j] != GOAL_STATE[i][j]:\n",
        "                count += 1\n",
        "    return count\n",
        "\n",
        "def find_blank(state):\n",
        "    for i in range(3):\n",
        "        for j in range(3):\n",
        "            if state[i][j] == 0:\n",
        "                return i, j\n",
        "\n",
        "def get_neighbors(state):\n",
        "    neighbors = []\n",
        "    x, y = find_blank(state)\n",
        "    moves = [(-1,0),(1,0),(0,-1),(0,1)]\n",
        "\n",
        "    for dx, dy in moves:\n",
        "        nx, ny = x + dx, y + dy\n",
        "        if 0 <= nx < 3 and 0 <= ny < 3:\n",
        "            new_state = copy.deepcopy(state)\n",
        "            new_state[x][y], new_state[nx][ny] = new_state[nx][ny], new_state[x][y]\n",
        "            neighbors.append(new_state)\n",
        "\n",
        "    return neighbors\n",
        "\n",
        "def hill_climbing(initial_state):\n",
        "    current = initial_state\n",
        "    current_score = misplaced_tiles(current)\n",
        "\n",
        "    while True:\n",
        "        neighbors = get_neighbors(current)\n",
        "        neighbor_scores = [(misplaced_tiles(n), n) for n in neighbors]\n",
        "        best_score, best_neighbor = min(neighbor_scores, key=lambda x: x[0])\n",
        "\n",
        "        if best_score >= current_score:\n",
        "            break\n",
        "\n",
        "        current, current_score = best_neighbor, best_score\n",
        "        print(f\"Current state with score {current_score}:\")\n",
        "        print_state(current)\n",
        "\n",
        "        if current_score == 0:\n",
        "            print(\"Goal reached!\")\n",
        "            return current\n",
        "\n",
        "    print(\"Reached local maximum (no better neighbors).\")\n",
        "    return current\n",
        "\n",
        "def print_state(state):\n",
        "    for row in state:\n",
        "        print(' '.join(str(x) if x != 0 else ' ' for x in row))\n",
        "    print()\n",
        "\n",
        "initial_state = [\n",
        "    [1, 2, 3],\n",
        "    [4, 0, 6],\n",
        "    [7, 5, 8]\n",
        "]\n",
        "\n",
        "print(\"Initial state:\")\n",
        "print_state(initial_state)\n",
        "hill_climbing(initial_state)"
      ]
    },
    {
      "cell_type": "code",
      "source": [
        "import copy\n",
        "\n",
        "GOAL_STATE = [\n",
        "    [1, 2, 3],\n",
        "    [4, 5, 6],\n",
        "    [7, 8, 0]\n",
        "]\n",
        "\n",
        "# Precompute the goal positions of each tile for faster lookup\n",
        "goal_positions = {}\n",
        "for i in range(3):\n",
        "    for j in range(3):\n",
        "        val = GOAL_STATE[i][j]\n",
        "        goal_positions[val] = (i, j)\n",
        "\n",
        "def manhattan_distance(state):\n",
        "    distance = 0\n",
        "    for i in range(3):\n",
        "        for j in range(3):\n",
        "            val = state[i][j]\n",
        "            if val != 0:\n",
        "                goal_i, goal_j = goal_positions[val]\n",
        "                distance += abs(i - goal_i) + abs(j - goal_j)\n",
        "    return distance\n",
        "\n",
        "def find_blank(state):\n",
        "    for i in range(3):\n",
        "        for j in range(3):\n",
        "            if state[i][j] == 0:\n",
        "                return i, j\n",
        "\n",
        "def get_neighbors(state):\n",
        "    neighbors = []\n",
        "    x, y = find_blank(state)\n",
        "    moves = [(-1,0),(1,0),(0,-1),(0,1)]  # Up, Down, Left, Right\n",
        "\n",
        "    for dx, dy in moves:\n",
        "        nx, ny = x + dx, y + dy\n",
        "        if 0 <= nx < 3 and 0 <= ny < 3:\n",
        "            new_state = copy.deepcopy(state)\n",
        "            new_state[x][y], new_state[nx][ny] = new_state[nx][ny], new_state[x][y]\n",
        "            neighbors.append(new_state)\n",
        "\n",
        "    return neighbors\n",
        "\n",
        "def hill_climbing(initial_state):\n",
        "    current = initial_state\n",
        "    current_score = manhattan_distance(current)\n",
        "\n",
        "    while True:\n",
        "        neighbors = get_neighbors(current)\n",
        "        neighbor_scores = [(manhattan_distance(n), n) for n in neighbors]\n",
        "        best_score, best_neighbor = min(neighbor_scores, key=lambda x: x[0])\n",
        "\n",
        "        if best_score >= current_score:\n",
        "            break\n",
        "\n",
        "        current, current_score = best_neighbor, best_score\n",
        "        print(f\"Current state with Manhattan distance {current_score}:\")\n",
        "        print_state(current)\n",
        "\n",
        "        if current_score == 0:\n",
        "            print(\"Goal reached!\")\n",
        "            return current\n",
        "\n",
        "    print(\"Reached local maximum (no better neighbors).\")\n",
        "    return current\n",
        "\n",
        "def print_state(state):\n",
        "    for row in state:\n",
        "        print(' '.join(str(x) if x != 0 else ' ' for x in row))\n",
        "    print()\n",
        "\n",
        "initial_state = [\n",
        "    [1, 2, 3],\n",
        "    [4, 0, 6],\n",
        "    [7, 5, 8]\n",
        "]\n",
        "\n",
        "print(\"Initial state:\")\n",
        "print_state(initial_state)\n",
        "hill_climbing(initial_state)\n"
      ],
      "metadata": {
        "colab": {
          "base_uri": "https://localhost:8080/"
        },
        "id": "B9Zw5aq39AVj",
        "outputId": "2f7bb5f9-4390-4c1a-fec0-56b765a385ee"
      },
      "execution_count": 2,
      "outputs": [
        {
          "output_type": "stream",
          "name": "stdout",
          "text": [
            "Initial state:\n",
            "1 2 3\n",
            "4   6\n",
            "7 5 8\n",
            "\n",
            "Current state with Manhattan distance 1:\n",
            "1 2 3\n",
            "4 5 6\n",
            "7   8\n",
            "\n",
            "Current state with Manhattan distance 0:\n",
            "1 2 3\n",
            "4 5 6\n",
            "7 8  \n",
            "\n",
            "Goal reached!\n"
          ]
        },
        {
          "output_type": "execute_result",
          "data": {
            "text/plain": [
              "[[1, 2, 3], [4, 5, 6], [7, 8, 0]]"
            ]
          },
          "metadata": {},
          "execution_count": 2
        }
      ]
    }
  ]
}